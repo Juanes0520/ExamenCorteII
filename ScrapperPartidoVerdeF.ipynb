{
 "cells": [
  {
   "cell_type": "code",
   "execution_count": 1,
   "metadata": {},
   "outputs": [],
   "source": [
    "# Importing required libraries\n",
    "\n",
    "import time\n",
    "#import request\n",
    "\n",
    "from bs4 import BeautifulSoup\n",
    "from selenium import webdriver\n",
    "from selenium.common.exceptions import WebDriverException\n",
    "import pandas as pd\n",
    "from datetime import date"
   ]
  },
  {
   "cell_type": "code",
   "execution_count": 2,
   "metadata": {},
   "outputs": [],
   "source": [
    "# Chrome web driver path\n",
    "path = './chromedriver'"
   ]
  },
  {
   "cell_type": "code",
   "execution_count": 3,
   "metadata": {},
   "outputs": [
    {
     "name": "stderr",
     "output_type": "stream",
     "text": [
      "<ipython-input-3-d04ebe7e778e>:1: DeprecationWarning: executable_path has been deprecated, please pass in a Service object\n",
      "  driver = webdriver.Chrome(path)\n"
     ]
    }
   ],
   "source": [
    "driver = webdriver.Chrome(path)"
   ]
  },
  {
   "cell_type": "code",
   "execution_count": 4,
   "metadata": {},
   "outputs": [],
   "source": [
    "# Base URL of the site to be analyzed\n",
    "site_url = 'https://alianzaverde.org.co/'"
   ]
  },
  {
   "cell_type": "code",
   "execution_count": 5,
   "metadata": {},
   "outputs": [],
   "source": [
    "# Creating a new chrome window\n",
    "driver.get(site_url+\"lideres-verdes/congreso-2022/senado-2022\")"
   ]
  },
  {
   "cell_type": "code",
   "execution_count": 11,
   "metadata": {},
   "outputs": [
    {
     "name": "stdout",
     "output_type": "stream",
     "text": [
      "/images/Candidatos_2022/senado/2.jpg\n",
      "/images/Candidatos_2022/senado/3.jpg\n",
      "/images/Candidatos_2022/senado/5.jpg\n",
      "/images/Candidatos_2022/senado/7.jpg\n",
      "/images/Candidatos_2022/senado/8.jpg\n",
      "/images/Candidatos_2022/senado/10.jpg\n",
      "/images/Candidatos_2022/senado/12.jpg\n",
      "/images/Candidatos_2022/senado/14.jpg\n",
      "/images/Candidatos_2022/senado/18.jpg\n",
      "/images/Candidatos_2022/senado/20.jpg\n",
      "/images/Candidatos_2022/senado/22.jpg\n",
      "/images/Candidatos_2022/senado/26.jpg\n",
      "/images/Candidatos_2022/senado/28.jpg\n",
      "/images/Candidatos_2022/senado/30.jpg\n",
      "/images/Candidatos_2022/senado/32.jpg\n",
      "/images/Candidatos_2022/senado/34.jpg\n",
      "/images/Candidatos_2022/senado/36.jpg\n",
      "/images/Candidatos_2022/senado/38.jpg\n",
      "/images/Candidatos_2022/senado/40.jpg\n",
      "/images/Candidatos_2022/senado/42.jpg\n",
      "/images/Candidatos_2022/senado/44.jpg\n",
      "/images/Candidatos_2022/senado/48.jpg\n",
      "/images/Candidatos_2022/senado/52.jpg\n",
      "/images/Candidatos_2022/senado/54.jpg\n",
      "/images/Candidatos_2022/senado/56.jpg\n",
      "/images/Candidatos_2022/senado/58.jpg\n",
      "/images/Candidatos_2022/senado/60.jpg\n",
      "/images/Candidatos_2022/senado/62.jpg\n",
      "/images/Candidatos_2022/senado/64.jpg\n",
      "/images/Candidatos_2022/senado/69.jpg\n",
      "/images/Candidatos_2022/senado/70.jpg\n",
      "/images/Candidatos_2022/senado/91.jpg\n",
      "/images/Candidatos_2022/senado/98.jpg\n",
      "/images/Candidatos_2022/senado/100.jpg\n"
     ]
    }
   ],
   "source": [
    "# Obtain candidates images\n",
    "\n",
    "soup = BeautifulSoup(driver.page_source,'html.parser')\n",
    "\n",
    "imagenCandidatos = soup.find_all('div',class_=\"sppb-person-image\")\n",
    "i=0\n",
    "for element in imagenCandidatos:\n",
    "    imagenCandidato = element.find('img', class_='sppb-img-responsive').get('src')\n",
    "    print(imagenCandidato)"
   ]
  },
  {
   "cell_type": "code",
   "execution_count": 33,
   "metadata": {},
   "outputs": [
    {
     "name": "stdout",
     "output_type": "stream",
     "text": [
      "<span class=\"sppb-person-designation\"><div style=\"text-align: justify;\"><span style=\"font-size: 12pt;\">Abogada y filósofa, con un máster en Ciencias de la Administración Pública, en Alemania. Experta en gestión pública, descentralización, transparencia, buen gobierno, modernización del estado, cultura ciudadana y cooperación internacional, temas en los cuales se ha desempeñado alternativamente como servidora pública, consultora y docente.</span></div></span>\n",
      "<span class=\"sppb-person-designation\"><div style=\"text-align: justify;\"><span style=\"font-size: 12pt;\">Nacida de seres excepcionales, en tiempos inciertos; es la mujer de retos resueltos. Desde el inicio de su carrera política, su liderazgo se enfoca en mantener la cultura de la equidad, la familia y el fortalecimiento económico, político y social de las regiones en Colombia</span></div></span>\n",
      "<span class=\"sppb-person-designation\"><div style=\"text-align: justify;\"><span style=\"font-size: 12pt;\">Destacado Senador de la República en el año 2010 fue disciplinado y estricto en el cumplimiento de su función en la producción legislativa y el ejercicio del control político; en particular, participó de forma definitiva en los Proyectos de Ley y de Acto Legislativo trascendentales para el país.</span></div></span>\n",
      "<span class=\"sppb-person-designation\"><div style=\"text-align: justify;\"><span style=\"font-size: 12pt;\">Egresado de la Facultad de Derecho de la Pontificia Universidad Javeriana; fue Diputado a la Asamblea de Cundinamarca, Concejal, Representante a la Cámara por Bogotá y Senador, además de ser fundador del Partido Alianza Verde. Correo de contacto</span></div></span>\n",
      "<span class=\"sppb-person-designation\"><div style=\"text-align: justify;\"><span style=\"font-size: 12pt;\">Como congresista pertenece a la Comisión sexta, la comisión de paz y la Comisión de Derechos Humanos. Ha presentado iniciativas para reformar el sistema general de participaciones y la jornada laboral. Ha presentado proyectos de ley que fortalezcan la nutrición saludable, el internet gratuito, el financiamiento a los cuerpos de bomberos, la creación de las provincias, entre otras.</span></div></span>\n",
      "<span class=\"sppb-person-designation\"><div style=\"text-align: justify;\"><span style=\"font-size: 12pt;\">Ciudadana, activista cívica, abogada y Senadora de 2018 a 2022 por el partido Alianza Verde. Representante a la Cámara por Bogotá en 2014 - 2018. Magíster en Gerencia y Práctica del Desarrollo en la Universidad de los Andes y becaria del Instituto Nacional Demócrata (NDI).</span></div></span>\n",
      "<span class=\"sppb-person-designation\"><div style=\"text-align: justify;\"><span style=\"font-size: 12pt;\">Nacida en Villa de Leyva Boyacá. Desde su infancia se caracterizó por el amor a su familia, solidaridad y capacidad de asumir retos. Ingeniera Industrial de la Universidad Pedagógica y Tecnológica de Colombia, con una Maestría en en pensamiento estratégico y perspectiva de la Universidad Externado de Colombia.</span></div></span>\n",
      "<span class=\"sppb-person-designation\"><div style=\"text-align: justify;\"><span style=\"font-size: 12pt;\">Profesora universitaria. Autora de varias publicaciones sobre derechos animales y justicia juvenil restaurativa (Beca de Investigación del Grupo Coímbra. Programa de Becas para Jóvenes Profesores e Investigadores de Universidades de América Latina, 2009). Columnista ocasional de varios medios de comunicación.</span></div></span>\n",
      "<span class=\"sppb-person-designation\"><div style=\"text-align: justify;\"><span style=\"font-size: 12pt;\">Magíster en Gestión de la Tecnología Educativa. Ex presidente de Sindimaestros en Boyacá. Ex presidente de FECODE y actualmente Ejecutivo (tesorero)Dirigente estudiantil, sindical, social y político desde hace 32 años.</span></div></span>\n",
      "<span class=\"sppb-person-designation\"><div style=\"text-align: justify;\"><span style=\"font-size: 12pt;\">Nació en Pereira en 1946, el cuarto de once hermanos, en la época de la Violencia… cuando liberales y conservadores se mataban. Por eso desde pequeño sabe que lo más importante para el país es que las personas aprendamos a convivir, a dignificar la existencia humana.</span></div></span>\n",
      "<span class=\"sppb-person-designation\"><div style=\"text-align: justify;\"><span style=\"font-size: 12pt;\">Miembro de la Comisión Segunda del Senado y Co-Presidente de la Comisión de Paz. Sociólogo, Magíster en Desarrollo Regional de la Universidad de Los Andes y Doctor en Gobierno y Administración Pública de la Universidad Complutense de Madrid. Fue Concejal de Bogotá de 2008 a diciembre de 2017.</span></div></span>\n",
      "<span class=\"sppb-person-designation\"><div style=\"text-align: justify;\"><span style=\"font-size: 12pt;\">Líder ambiental de Piedecuesta, ha sido visible en el movimiento ambiental del departamento. Trabajó en la Alcaldía de Piedecuesta en la Oficina de Control Interno. Terminó materias de administración de empresas en la Universidad Cooperativa de Colombia, y es perito certificado por la Lonja de Propiedad horizontal, así como tecnólogo del Sena en mercado y venta de bienes inmuebles.</span></div></span>\n",
      "<span class=\"sppb-person-designation\"><div style=\"text-align: justify;\"><span style=\"font-size: 12pt;\">Abogada de la Universidad Nacional de Colombia, trabajó con la Rama Judicial y el Acueducto de Bogotá como asesora jurídica. Actualmente es abogada militante. Literaria y novelista con publicaciones de sus escritos. Trabaja con la cultura y la comunidad en asuntos sociales.</span></div></span>\n",
      "<span class=\"sppb-person-designation\"><div style=\"text-align: justify;\"><span style=\"font-size: 12pt;\">Profesional en Gobierno y Relaciones internacionales con maestría en Desarrollo Regional y dos años de experiencia en en entidades de cooperación internacional y del Estado. Enfoque de trabajo en gobernanza, construcción de paz, transparencia y equidad de género.</span></div></span>\n",
      "<span class=\"sppb-person-designation\"><div style=\"text-align: justify;\"><span style=\"font-size: 10pt;\">Activista estudiantil vinculado a las luchas agrarias de los campesinos por la tierra para quien la trabaja de la ANUC línea Sincelejo. Fundador de la Asociación de adjudicatarios de vivienda del ICT y UPAC, fue su Presidente, Miembro destacado del Consejo Nacional de los pueblos cívicos comunales y la Coordinadora de Vivienda Popular en los años 1980. Líder sindical de la subdirectiva sindical de Telecom en Montería Córdoba, Miembro vicepresidente de  Consejo de planeación territorial del Atlántico en la primera generación de consejeros con el nacimiento de la ley de participación territorial. </span></div></span>\n",
      "<span class=\"sppb-person-designation\"><div style=\"text-align: justify;\"><span style=\"font-size: 12pt;\">Abogado de la Universidad de los Andes, especialista en Estado, Políticas públicas y Desarrollo. Activista social y medio ambiental. Autor del libro titulado “Agua” fiel creyente de los cambios a través del proceso democrático y participativo, basado en los principios progresistas.</span></div></span>\n",
      "<span class=\"sppb-person-designation\"><div style=\"text-align: justify;\"><span style=\"font-size: 12pt;\">Abogado de la Universidad de los Andes, Especialista en Derecho, Magíster en Educación y en Derecho, Doctor en Derecho (PDH). INVESTIGADOR SENIOR RECONOCIDO POR MIN CIENCIAS. AUTOR DE DIFERENTES LIBROS EN ÁREAS EDUCATIVAS Y JURÍDICAS.</span></div></span>\n",
      "<span class=\"sppb-person-designation\"><div style=\"text-align: justify;\"><span style=\"font-size: 12pt;\">Secretario de Educación del Departamento de Bolívar. -Primer Secretario de Educación del Distrito de Cartagena. Gobernador del Departamento de Bolívar, por elección popular. -Presidente del Consejo Superior de la Universidad de Cartagena. -Docente Especial Tiempo Completo- Escuela Superior de Administración Pública-ESAP. </span></div></span>\n",
      "<span class=\"sppb-person-designation\"><div style=\"text-align: justify;\"><span style=\"font-size: 12pt;\">Nacido en Samaná Caldas, estudió economía y comercio exterior en la Universidad de los Libertadores. Empresario enfocado en el sector inmobiliario.  Su apuesta está centrada en el sector campo.</span></div></span>\n",
      "<span class=\"sppb-person-designation\"><div style=\"text-align: justify;\"><span style=\"font-size: 10pt;\">Bogotana, Abogada defensora de los derechos humanos, de la inclusión y diversidad, de los animales y el medio ambiente. Abogada litigante. Experiencia en Secretaría General de la Contraloría de  Cundinamarca, Personera Delegada para Protección a Víctimas, Personera Delegada para Seguridad y Convivencia, Directora y Subdirectora del Proceso de Responsabilidad Fiscal y Cobro Coactivo de la Contraloría de Bogotá.</span></div></span>\n",
      "<span class=\"sppb-person-designation\"><div style=\"text-align: justify;\"><span style=\"font-size: 10pt;\">Soy filósofa de la Universidad del Valle con Maestría en Estudios Políticos de la U. Javeriana, he ejercido la cátedra universitaria. Tengo una larga trayectoria como defensora de Derechos Humanos, y he desplegado un rico liderazgo social que me ha llevado a hacer contribuciones significativas al lado de los movimientos sociales y las víctimas del conflicto social y armado.</span></div></span>\n",
      "<span class=\"sppb-person-designation\"><div style=\"text-align: justify;\"><span style=\"font-size: 12pt;\">Economista, magíster en gobierno. Reconocido por su sentido social, responsable, honesto, innovador, creativo y social. Ha desarrollado proyectos comunitarios y gobernabilidad en más de 43 consejos comunitarios en el territorio ancestral del norte del Cauca.</span></div></span>\n",
      "<span class=\"sppb-person-designation\"><div style=\"text-align: justify;\"><span style=\"font-size: 12pt;\">Empresaria, consultora organizacional en procesos de transformación. Víctima del atentado de las Farc al Club El Nogal. Incapacitada durante 8+años. Fui mi propio laboratorio de Perdón y Reconciliación. Ayudo a sanar corazones de víctimas y victimarios. Dirijo Encuentros Transformadores entre diversos (30años).  Pienso crear la política pública para la Transformación y Reconciliación.</span></div></span>\n",
      "<span class=\"sppb-person-designation\"><div style=\"text-align: justify;\"><span style=\"font-size: 12pt;\">Creador de contenido digital político, reconocido por google con la placa de oro. Activista y líder político en redes sociales.</span></div></span>\n",
      "<span class=\"sppb-person-designation\">DALIA FERNANDA PINEDA</span>\n",
      "<span class=\"sppb-person-designation\"><div style=\"text-align: justify;\"><span style=\"font-size: 12pt;\">Abogado de la Universidad de Medellín, experto en derecho civil extracontractual y de tránsito. Creador del movimiento Sí Se Puede. </span></div></span>\n",
      "<span class=\"sppb-person-designation\"><div style=\"text-align: justify;\"><span style=\"font-size: 12pt;\">Ex concejal de Manizales por el Partido Alianza Verde, en donde ha liderado y tenido resultados alrededor de la defensa y protección de los animales, logrando posicionar a la ciudad de Manizales como ejemplo de región en el manejo de Fauna Doméstica.</span></div></span>\n",
      "<span class=\"sppb-person-designation\"><div style=\"text-align: justify;\"><span style=\"font-size: 12pt;\">Representante de los Usuarios del ICETEX y líder del movimiento el ICETEX TE ARRUINA. Desde el 2013 ha investigado las anomalías del modelo de financiación y ha aunado esfuerzos en el Congreso de la República para lograr 4 leyes que podrían beneficiar a más de 800 mil usuarios.</span></div></span>\n",
      "<span class=\"sppb-person-designation\"><div style=\"text-align: justify;\"><span style=\"font-size: 12pt;\">Economista, Magíster en Economía de la Universidad Javeriana y especialista en Gobierno de la Universidad de Columbia de Nueva York. Desde hace 9 años es consultor de las Naciones Unidas en el tema de seguridad ciudadana.</span></div></span>\n",
      "<span class=\"sppb-person-designation\"><div style=\"text-align: justify;\"><span style=\"font-size: 12pt;\">Politólogo, periodista. Ex subdirector de la fundación Paz y Reconciliación. Cuenta con más de 30 publicaciones.</span></div></span>\n",
      "<span class=\"sppb-person-designation\"><div style=\"text-align: justify;\"><span style=\"font-size: 12pt;\">Comunicadora social y periodista, especializada en recursos humanos. Emprendedora del campo y productos orgánicos. Ambientalista por convicción, activista política y social.</span></div></span>\n",
      "<span class=\"sppb-person-designation\">Arley Fernando Gómez</span>\n",
      "<span class=\"sppb-person-designation\"><div style=\"text-align: justify;\"><span style=\"font-size: 12pt;\">Abogada, candidata a Magíster en D. con énfasis en DD.HH y justicia transicional. Especialista en derecho público, planeación estratégica urbana y Gerencia del Ambiente. Cuenta con más de 19 años de experiencia en el sector público, en el nivel directivo de entidades sociales y orientación a la garantía de los derechos humanos. </span></div></span>\n",
      "<span class=\"sppb-person-designation\"><div style=\"text-align: justify;\"><span style=\"font-size: 10pt;\">Desde el Congreso de la República ha liderado importantes debates de control político en los que ha mostrado su conocimiento y liderazgo en la defensa del medio ambiente y las comunidades vulnerables de la ciudad. ha trabajado por: Cierre del Relleno Sanitario Doña Juana, Defensa de la reserva ambiental Thomas Van del Hammen, Rechazo a la Ley 1801 de 2016 - Código de Policía, Defensa de los vendedores informales, Metro de Bogotá.</span></div></span>\n"
     ]
    }
   ],
   "source": [
    "#Obtain candidates description\n",
    "\n",
    "descripcionCandidatos = soup.find_all('div',class_=\"person-content-hover-content-wrap\")\n",
    "i=0\n",
    "for element in descripcionCandidatos:\n",
    "    descripcionCandidato = element.find('span',class_='sppb-person-designation')\n",
    "    print(descripcionCandidato)"
   ]
  },
  {
   "cell_type": "code",
   "execution_count": 36,
   "metadata": {},
   "outputs": [
    {
     "name": "stdout",
     "output_type": "stream",
     "text": [
      "<ul class=\"sppb-person-social\"><li><a aria-label=\"Facebook\" href=\"https://twitter.com/VivianaBarbere \" rel=\"noopener noreferrer\" target=\"_blank\"><i aria-hidden=\"true\" class=\"fab fa-facebook-f\" title=\"Facebook\"></i></a></li><li><a aria-label=\"Twitter\" href=\"https://twitter.com/VivianaBarbere\" rel=\"noopener noreferrer\" target=\"_blank\"><i aria-hidden=\"true\" class=\"fab fa-twitter\" title=\"Twitter\"></i></a></li><li><a aria-label=\"Instagram\" href=\"https://www.instagram.com/barberenaviviana/ \" rel=\"noopener noreferrer\" target=\"_blank\"><i aria-hidden=\"true\" class=\"fab fa-instagram\" title=\"Instagram\"></i></a></li></ul>\n",
      "<ul class=\"sppb-person-social\"><li><a aria-label=\"Facebook\" href=\"https://www.facebook.com/sandraortizsenadora\" rel=\"noopener noreferrer\" target=\"_blank\"><i aria-hidden=\"true\" class=\"fab fa-facebook-f\" title=\"Facebook\"></i></a></li><li><a aria-label=\"Twitter\" href=\"https://twitter.com/sandraortizn\" rel=\"noopener noreferrer\" target=\"_blank\"><i aria-hidden=\"true\" class=\"fab fa-twitter\" title=\"Twitter\"></i></a></li><li><a aria-label=\"YouTube\" href=\"https://www.youtube.com/channel/UCTwjhE_bLZS72l0RqI_u4OQ/featured\" rel=\"noopener noreferrer\" target=\"_blank\"><i aria-hidden=\"true\" class=\"fab fa-youtube\" title=\"YouTube\"></i></a></li><li><a aria-label=\"Instagram\" href=\"https://www.instagram.com/sandraortizn\" rel=\"noopener noreferrer\" target=\"_blank\"><i aria-hidden=\"true\" class=\"fab fa-instagram\" title=\"Instagram\"></i></a></li></ul>\n",
      "<ul class=\"sppb-person-social\"><li><a aria-label=\"Facebook\" href=\"https://www.facebook.com/JorgeELondonoU/\" rel=\"noopener noreferrer\" target=\"_blank\"><i aria-hidden=\"true\" class=\"fab fa-facebook-f\" title=\"Facebook\"></i></a></li><li><a aria-label=\"Twitter\" href=\"https://twitter.com/JorgeELondonoU\" rel=\"noopener noreferrer\" target=\"_blank\"><i aria-hidden=\"true\" class=\"fab fa-twitter\" title=\"Twitter\"></i></a></li><li><a aria-label=\"YouTube\" href=\"https://youtube.com/user/JorgeLondonoUlloa\" rel=\"noopener noreferrer\" target=\"_blank\"><i aria-hidden=\"true\" class=\"fab fa-youtube\" title=\"YouTube\"></i></a></li><li><a aria-label=\"Instagram\" href=\"http://instagram.com/jorgeelondonou\" rel=\"noopener noreferrer\" target=\"_blank\"><i aria-hidden=\"true\" class=\"fab fa-instagram\" title=\"Instagram\"></i></a></li></ul>\n",
      "<ul class=\"sppb-person-social\"><li><a aria-label=\"Facebook\" href=\"https://www.facebook.com/SenadorIvanName \" rel=\"noopener noreferrer\" target=\"_blank\"><i aria-hidden=\"true\" class=\"fab fa-facebook-f\" title=\"Facebook\"></i></a></li><li><a aria-label=\"Twitter\" href=\"/ https://twitter.com/IvanNameVasquez \" rel=\"noopener noreferrer\" target=\"_blank\"><i aria-hidden=\"true\" class=\"fab fa-twitter\" title=\"Twitter\"></i></a></li><li><a aria-label=\"Instagram\" href=\"https://www.instagram.com/ivannamevasquez/ \" rel=\"noopener noreferrer\" target=\"_blank\"><i aria-hidden=\"true\" class=\"fab fa-instagram\" title=\"Instagram\"></i></a></li></ul>\n",
      "<ul class=\"sppb-person-social\"><li><a aria-label=\"Facebook\" href=\"https://www.facebook.com/Leonfredym\" rel=\"noopener noreferrer\" target=\"_blank\"><i aria-hidden=\"true\" class=\"fab fa-facebook-f\" title=\"Facebook\"></i></a></li><li><a aria-label=\"Twitter\" href=\"https://twitter.com/LeonFredyM \" rel=\"noopener noreferrer\" target=\"_blank\"><i aria-hidden=\"true\" class=\"fab fa-twitter\" title=\"Twitter\"></i></a></li><li><a aria-label=\"Instagram\" href=\"https://www.instagram.com/leonfredymunozl\" rel=\"noopener noreferrer\" target=\"_blank\"><i aria-hidden=\"true\" class=\"fab fa-instagram\" title=\"Instagram\"></i></a></li></ul>\n",
      "<ul class=\"sppb-person-social\"><li><a aria-label=\"Facebook\" href=\"https://www.facebook.com/angelicalozanocorrea/ \" rel=\"noopener noreferrer\" target=\"_blank\"><i aria-hidden=\"true\" class=\"fab fa-facebook-f\" title=\"Facebook\"></i></a></li><li><a aria-label=\"Twitter\" href=\"https://twitter.com/AngelicaLozanoC \" rel=\"noopener noreferrer\" target=\"_blank\"><i aria-hidden=\"true\" class=\"fab fa-twitter\" title=\"Twitter\"></i></a></li><li><a aria-label=\"YouTube\" href=\"https://www.youtube.com/user/bogotaserespeta\" rel=\"noopener noreferrer\" target=\"_blank\"><i aria-hidden=\"true\" class=\"fab fa-youtube\" title=\"YouTube\"></i></a></li><li><a aria-label=\"Instagram\" href=\"https://www.instagram.com/angelicalozano10/\" rel=\"noopener noreferrer\" target=\"_blank\"><i aria-hidden=\"true\" class=\"fab fa-instagram\" title=\"Instagram\"></i></a></li></ul>\n",
      "<ul class=\"sppb-person-social\"><li><a aria-label=\"Facebook\" href=\"/ https://www.facebook.com/karolina.jerez \" rel=\"noopener noreferrer\" target=\"_blank\"><i aria-hidden=\"true\" class=\"fab fa-facebook-f\" title=\"Facebook\"></i></a></li><li><a aria-label=\"Twitter\" href=\"https://twitter.com/CaroEspitiaJ \" rel=\"noopener noreferrer\" target=\"_blank\"><i aria-hidden=\"true\" class=\"fab fa-twitter\" title=\"Twitter\"></i></a></li><li><a aria-label=\"Instagram\" href=\"https://www.instagram.com/caroespitiaj/ \" rel=\"noopener noreferrer\" target=\"_blank\"><i aria-hidden=\"true\" class=\"fab fa-instagram\" title=\"Instagram\"></i></a></li></ul>\n",
      "<ul class=\"sppb-person-social\"><li><a aria-label=\"Facebook\" href=\"https://www.facebook.com/andreanimalidad\" rel=\"noopener noreferrer\" target=\"_blank\"><i aria-hidden=\"true\" class=\"fab fa-facebook-f\" title=\"Facebook\"></i></a></li><li><a aria-label=\"Twitter\" href=\"https://twitter.com/andreanimalidad \" rel=\"noopener noreferrer\" target=\"_blank\"><i aria-hidden=\"true\" class=\"fab fa-twitter\" title=\"Twitter\"></i></a></li><li><a aria-label=\"YouTube\" href=\"https://www.youtube.com/channel/UCnJ85DTEYtqUJ1o9wQLsbyA \" rel=\"noopener noreferrer\" target=\"_blank\"><i aria-hidden=\"true\" class=\"fab fa-youtube\" title=\"YouTube\"></i></a></li><li><a aria-label=\"Instagram\" href=\"https://www.instagram.com/andreanimalidad\" rel=\"noopener noreferrer\" target=\"_blank\"><i aria-hidden=\"true\" class=\"fab fa-instagram\" title=\"Instagram\"></i></a></li></ul>\n",
      "<ul class=\"sppb-person-social\"><li><a aria-label=\"Facebook\" href=\"https://www.facebook.com/nelson.alarconsuarez.16 \" rel=\"noopener noreferrer\" target=\"_blank\"><i aria-hidden=\"true\" class=\"fab fa-facebook-f\" title=\"Facebook\"></i></a></li><li><a aria-label=\"Twitter\" href=\"https://twitter.com/Nelsonalarcon74 \" rel=\"noopener noreferrer\" target=\"_blank\"><i aria-hidden=\"true\" class=\"fab fa-twitter\" title=\"Twitter\"></i></a></li><li><a aria-label=\"YouTube\" href=\"https://www.youtube.com/channel/UC0yGgG_Jj4cUa8kdv_J5n2w \" rel=\"noopener noreferrer\" target=\"_blank\"><i aria-hidden=\"true\" class=\"fab fa-youtube\" title=\"YouTube\"></i></a></li><li><a aria-label=\"Instagram\" href=\"https://www.instagram.com/nelsonalarcon74/ \" rel=\"noopener noreferrer\" target=\"_blank\"><i aria-hidden=\"true\" class=\"fab fa-instagram\" title=\"Instagram\"></i></a></li></ul>\n",
      "<ul class=\"sppb-person-social\"><li><a aria-label=\"Facebook\" href=\"https://www.facebook.com/IvanMarulandaGomez\" rel=\"noopener noreferrer\" target=\"_blank\"><i aria-hidden=\"true\" class=\"fab fa-facebook-f\" title=\"Facebook\"></i></a></li><li><a aria-label=\"Twitter\" href=\"https://twitter.com/ivanmarulanda\" rel=\"noopener noreferrer\" target=\"_blank\"><i aria-hidden=\"true\" class=\"fab fa-twitter\" title=\"Twitter\"></i></a></li><li><a aria-label=\"YouTube\" href=\"https://www.youtube.com/c/IvánMarulandaGomezCo \" rel=\"noopener noreferrer\" target=\"_blank\"><i aria-hidden=\"true\" class=\"fab fa-youtube\" title=\"YouTube\"></i></a></li><li><a aria-label=\"Instagram\" href=\"https://www.instagram.com/ivanmarulandagomez/ \" rel=\"noopener noreferrer\" target=\"_blank\"><i aria-hidden=\"true\" class=\"fab fa-instagram\" title=\"Instagram\"></i></a></li></ul>\n",
      "<ul class=\"sppb-person-social\"><li><a aria-label=\"Facebook\" href=\"https://www.facebook.com/antonio.sanguino.79 \" rel=\"noopener noreferrer\" target=\"_blank\"><i aria-hidden=\"true\" class=\"fab fa-facebook-f\" title=\"Facebook\"></i></a></li><li><a aria-label=\"Twitter\" href=\"https://twitter.com/AntonioSanguino\" rel=\"noopener noreferrer\" target=\"_blank\"><i aria-hidden=\"true\" class=\"fab fa-twitter\" title=\"Twitter\"></i></a></li><li><a aria-label=\"YouTube\" href=\"https://www.youtube.com/channel/UC7yjLuIJdAaJXoIRDSEChHw \" rel=\"noopener noreferrer\" target=\"_blank\"><i aria-hidden=\"true\" class=\"fab fa-youtube\" title=\"YouTube\"></i></a></li><li><a aria-label=\"Instagram\" href=\"https://www.instagram.com/antonio_sanguino \" rel=\"noopener noreferrer\" target=\"_blank\"><i aria-hidden=\"true\" class=\"fab fa-instagram\" title=\"Instagram\"></i></a></li></ul>\n",
      "<ul class=\"sppb-person-social\"><li><a aria-label=\"Facebook\" href=\"https://www.facebook.com/fabiandiazcomunidad/ \" rel=\"noopener noreferrer\" target=\"_blank\"><i aria-hidden=\"true\" class=\"fab fa-facebook-f\" title=\"Facebook\"></i></a></li><li><a aria-label=\"Twitter\" href=\"https://twitter.com/FabianDiazPlata \" rel=\"noopener noreferrer\" target=\"_blank\"><i aria-hidden=\"true\" class=\"fab fa-twitter\" title=\"Twitter\"></i></a></li><li><a aria-label=\"Instagram\" href=\"https://instagram.com/fabiandiaz.plata \" rel=\"noopener noreferrer\" target=\"_blank\"><i aria-hidden=\"true\" class=\"fab fa-instagram\" title=\"Instagram\"></i></a></li></ul>\n",
      "<ul class=\"sppb-person-social\"><li><a aria-label=\"Facebook\" href=\"https://www.facebook.com/PartidoAlianzaVerde\" rel=\"noopener noreferrer\" target=\"_blank\"><i aria-hidden=\"true\" class=\"fab fa-facebook-f\" title=\"Facebook\"></i></a></li></ul>\n",
      "<ul class=\"sppb-person-social\"><li><a aria-label=\"Facebook\" href=\"https://www.facebook.com/Linaarangorisaralda \" rel=\"noopener noreferrer\" target=\"_blank\"><i aria-hidden=\"true\" class=\"fab fa-facebook-f\" title=\"Facebook\"></i></a></li><li><a aria-label=\"Twitter\" href=\"https://twitter.com/linamariaarango\" rel=\"noopener noreferrer\" target=\"_blank\"><i aria-hidden=\"true\" class=\"fab fa-twitter\" title=\"Twitter\"></i></a></li><li><a aria-label=\"Instagram\" href=\"https://www.instagram.com/linaarangosenadora/ \" rel=\"noopener noreferrer\" target=\"_blank\"><i aria-hidden=\"true\" class=\"fab fa-instagram\" title=\"Instagram\"></i></a></li></ul>\n",
      "<ul class=\"sppb-person-social\"><li><a aria-label=\"Facebook\" href=\"https://www.facebook.com/PartidoAlianzaVerde/\" rel=\"noopener noreferrer\" target=\"_blank\"><i aria-hidden=\"true\" class=\"fab fa-facebook-f\" title=\"Facebook\"></i></a></li></ul>\n",
      "<ul class=\"sppb-person-social\"><li><a aria-label=\"Facebook\" href=\"https://www.facebook.com/Frankcanossa \" rel=\"noopener noreferrer\" target=\"_blank\"><i aria-hidden=\"true\" class=\"fab fa-facebook-f\" title=\"Facebook\"></i></a></li><li><a aria-label=\"Twitter\" href=\"/ https://twitter.com/canossafrank \" rel=\"noopener noreferrer\" target=\"_blank\"><i aria-hidden=\"true\" class=\"fab fa-twitter\" title=\"Twitter\"></i></a></li><li><a aria-label=\"Instagram\" href=\"https://www.instagram.com/canossafrank/ \" rel=\"noopener noreferrer\" target=\"_blank\"><i aria-hidden=\"true\" class=\"fab fa-instagram\" title=\"Instagram\"></i></a></li></ul>\n",
      "<ul class=\"sppb-person-social\"><li><a aria-label=\"Facebook\" href=\"https://www.facebook.com/js.perilla117\" rel=\"noopener noreferrer\" target=\"_blank\"><i aria-hidden=\"true\" class=\"fab fa-facebook-f\" title=\"Facebook\"></i></a></li><li><a aria-label=\"Twitter\" href=\"https://twitter.com/juansperilla \" rel=\"noopener noreferrer\" target=\"_blank\"><i aria-hidden=\"true\" class=\"fab fa-twitter\" title=\"Twitter\"></i></a></li><li><a aria-label=\"Instagram\" href=\"https://www.instagram.com/juansperilla/ \" rel=\"noopener noreferrer\" target=\"_blank\"><i aria-hidden=\"true\" class=\"fab fa-instagram\" title=\"Instagram\"></i></a></li></ul>\n",
      "<ul class=\"sppb-person-social\"><li><a aria-label=\"Facebook\" href=\"/www.facebook.com/luis.d.sanchez.16\" rel=\"noopener noreferrer\" target=\"_blank\"><i aria-hidden=\"true\" class=\"fab fa-facebook-f\" title=\"Facebook\"></i></a></li><li><a aria-label=\"Twitter\" href=\"https://twitter.com/LuisDanieVargas\" rel=\"noopener noreferrer\" target=\"_blank\"><i aria-hidden=\"true\" class=\"fab fa-twitter\" title=\"Twitter\"></i></a></li><li><a aria-label=\"Instagram\" href=\"https://www.instagram.com/luisdvargass/\" rel=\"noopener noreferrer\" target=\"_blank\"><i aria-hidden=\"true\" class=\"fab fa-instagram\" title=\"Instagram\"></i></a></li></ul>\n",
      "<ul class=\"sppb-person-social\"><li><a aria-label=\"Facebook\" href=\"https://www.facebook.com/JorgeELondonoU/\" rel=\"noopener noreferrer\" target=\"_blank\"><i aria-hidden=\"true\" class=\"fab fa-facebook-f\" title=\"Facebook\"></i></a></li><li><a aria-label=\"Twitter\" href=\"https://twitter.com/JorgeELondonoU\" rel=\"noopener noreferrer\" target=\"_blank\"><i aria-hidden=\"true\" class=\"fab fa-twitter\" title=\"Twitter\"></i></a></li><li><a aria-label=\"YouTube\" href=\"https://youtube.com/user/JorgeLondonoUlloa\" rel=\"noopener noreferrer\" target=\"_blank\"><i aria-hidden=\"true\" class=\"fab fa-youtube\" title=\"YouTube\"></i></a></li><li><a aria-label=\"Instagram\" href=\"http://instagram.com/jorgeelondonou\" rel=\"noopener noreferrer\" target=\"_blank\"><i aria-hidden=\"true\" class=\"fab fa-instagram\" title=\"Instagram\"></i></a></li></ul>\n",
      "<ul class=\"sppb-person-social\"><li><a aria-label=\"Facebook\" href=\"https://www.facebook.com/PartidoAlianzaVerde/\" rel=\"noopener noreferrer\" target=\"_blank\"><i aria-hidden=\"true\" class=\"fab fa-facebook-f\" title=\"Facebook\"></i></a></li></ul>\n",
      "<ul class=\"sppb-person-social\"><li><a aria-label=\"Facebook\" href=\"https://www.facebook.com/liliasolanor\" rel=\"noopener noreferrer\" target=\"_blank\"><i aria-hidden=\"true\" class=\"fab fa-facebook-f\" title=\"Facebook\"></i></a></li><li><a aria-label=\"Twitter\" href=\"https://twitter.com/liliasolanor \" rel=\"noopener noreferrer\" target=\"_blank\"><i aria-hidden=\"true\" class=\"fab fa-twitter\" title=\"Twitter\"></i></a></li><li><a aria-label=\"YouTube\" href=\"https://www.youtube.com/channel/UCv9HqVyXEOHWXmkwFINOOeA\" rel=\"noopener noreferrer\" target=\"_blank\"><i aria-hidden=\"true\" class=\"fab fa-youtube\" title=\"YouTube\"></i></a></li><li><a aria-label=\"Instagram\" href=\"https://www.instagram.com/liliasolanor/\" rel=\"noopener noreferrer\" target=\"_blank\"><i aria-hidden=\"true\" class=\"fab fa-instagram\" title=\"Instagram\"></i></a></li></ul>\n",
      "<ul class=\"sppb-person-social\"><li><a aria-label=\"Facebook\" href=\"https://www.facebook.com/victorhugomorenom\" rel=\"noopener noreferrer\" target=\"_blank\"><i aria-hidden=\"true\" class=\"fab fa-facebook-f\" title=\"Facebook\"></i></a></li><li><a aria-label=\"Twitter\" href=\"https://twitter.com/VictorMorenoMin\" rel=\"noopener noreferrer\" target=\"_blank\"><i aria-hidden=\"true\" class=\"fab fa-twitter\" title=\"Twitter\"></i></a></li><li><a aria-label=\"YouTube\" href=\"https://www.youtube.com/channel/UCYM3_NTBTRheRYsJd2cLMgw\" rel=\"noopener noreferrer\" target=\"_blank\"><i aria-hidden=\"true\" class=\"fab fa-youtube\" title=\"YouTube\"></i></a></li></ul>\n",
      "<ul class=\"sppb-person-social\"><li><a aria-label=\"YouTube\" href=\"https://www.youtube.com/channel/UC4S3hcMJV5jq4jXEs8Ltjow/videos\" rel=\"noopener noreferrer\" target=\"_blank\"><i aria-hidden=\"true\" class=\"fab fa-youtube\" title=\"YouTube\"></i></a></li><li><a aria-label=\"Instagram\" href=\"https://www.instagram.com/encuentrotransformador/\" rel=\"noopener noreferrer\" target=\"_blank\"><i aria-hidden=\"true\" class=\"fab fa-instagram\" title=\"Instagram\"></i></a></li></ul>\n",
      "<ul class=\"sppb-person-social\"><li><a aria-label=\"Facebook\" href=\"https://www.facebook.com/JotaPeHernandez\" rel=\"noopener noreferrer\" target=\"_blank\"><i aria-hidden=\"true\" class=\"fab fa-facebook-f\" title=\"Facebook\"></i></a></li><li><a aria-label=\"Twitter\" href=\"https://twitter.com/JotaPeHernandez\" rel=\"noopener noreferrer\" target=\"_blank\"><i aria-hidden=\"true\" class=\"fab fa-twitter\" title=\"Twitter\"></i></a></li><li><a aria-label=\"YouTube\" href=\"https://www.youtube.com/c/JotaPeHernandez\" rel=\"noopener noreferrer\" target=\"_blank\"><i aria-hidden=\"true\" class=\"fab fa-youtube\" title=\"YouTube\"></i></a></li><li><a aria-label=\"Instagram\" href=\"https://www.instagram.com/jotapehernandez/\" rel=\"noopener noreferrer\" target=\"_blank\"><i aria-hidden=\"true\" class=\"fab fa-instagram\" title=\"Instagram\"></i></a></li></ul>\n",
      "<ul class=\"sppb-person-social\"><li><a aria-label=\"Twitter\" href=\"https://twitter.com/JorgeELondonoU\" rel=\"noopener noreferrer\" target=\"_blank\"><i aria-hidden=\"true\" class=\"fab fa-twitter\" title=\"Twitter\"></i></a></li></ul>\n",
      "<ul class=\"sppb-person-social\"><li><a aria-label=\"Facebook\" href=\"https://www.facebook.com/SiSePuedeHernanEcheverri\" rel=\"noopener noreferrer\" target=\"_blank\"><i aria-hidden=\"true\" class=\"fab fa-facebook-f\" title=\"Facebook\"></i></a></li><li><a aria-label=\"Twitter\" href=\"https://twitter.com/hernansisepuede\" rel=\"noopener noreferrer\" target=\"_blank\"><i aria-hidden=\"true\" class=\"fab fa-twitter\" title=\"Twitter\"></i></a></li><li><a aria-label=\"YouTube\" href=\"https://www.youtube.com/channel/UCsD8WQMHxyI46Mh7AE3xHpA\" rel=\"noopener noreferrer\" target=\"_blank\"><i aria-hidden=\"true\" class=\"fab fa-youtube\" title=\"YouTube\"></i></a></li><li><a aria-label=\"Instagram\" href=\"https://instagram.com/hernanecheverrisisepuede\" rel=\"noopener noreferrer\" target=\"_blank\"><i aria-hidden=\"true\" class=\"fab fa-instagram\" title=\"Instagram\"></i></a></li></ul>\n",
      "<ul class=\"sppb-person-social\"><li><a aria-label=\"Facebook\" href=\"https://www.facebook.com/Hemayr.concejal \" rel=\"noopener noreferrer\" target=\"_blank\"><i aria-hidden=\"true\" class=\"fab fa-facebook-f\" title=\"Facebook\"></i></a></li><li><a aria-label=\"Twitter\" href=\"/ https://twitter.com/Hemayr\" rel=\"noopener noreferrer\" target=\"_blank\"><i aria-hidden=\"true\" class=\"fab fa-twitter\" title=\"Twitter\"></i></a></li><li><a aria-label=\"Instagram\" href=\"https://www.instagram.com/hemayr.senador/\" rel=\"noopener noreferrer\" target=\"_blank\"><i aria-hidden=\"true\" class=\"fab fa-instagram\" title=\"Instagram\"></i></a></li></ul>\n",
      "<ul class=\"sppb-person-social\"><li><a aria-label=\"Facebook\" href=\"https://www.facebook.com/icetextearruina/ \" rel=\"noopener noreferrer\" target=\"_blank\"><i aria-hidden=\"true\" class=\"fab fa-facebook-f\" title=\"Facebook\"></i></a></li><li><a aria-label=\"Twitter\" href=\"https://twitter.com/danieltorres086 \" rel=\"noopener noreferrer\" target=\"_blank\"><i aria-hidden=\"true\" class=\"fab fa-twitter\" title=\"Twitter\"></i></a></li><li><a aria-label=\"YouTube\" href=\"https://www.youtube.com/c/ICETEXTEARRUINA \" rel=\"noopener noreferrer\" target=\"_blank\"><i aria-hidden=\"true\" class=\"fab fa-youtube\" title=\"YouTube\"></i></a></li></ul>\n",
      "<ul class=\"sppb-person-social\"><li><a aria-label=\"Facebook\" href=\"https://www.facebook.com/ArielAvilaAnaliza \" rel=\"noopener noreferrer\" target=\"_blank\"><i aria-hidden=\"true\" class=\"fab fa-facebook-f\" title=\"Facebook\"></i></a></li><li><a aria-label=\"Twitter\" href=\"https://twitter.com/ArielAnaliza\" rel=\"noopener noreferrer\" target=\"_blank\"><i aria-hidden=\"true\" class=\"fab fa-twitter\" title=\"Twitter\"></i></a></li><li><a aria-label=\"YouTube\" href=\"https://www.youtube.com/c/ArielÁvilaAnaliza  \" rel=\"noopener noreferrer\" target=\"_blank\"><i aria-hidden=\"true\" class=\"fab fa-youtube\" title=\"YouTube\"></i></a></li></ul>\n",
      "<ul class=\"sppb-person-social\"><li><a aria-label=\"Facebook\" href=\"/www.facebook.com/adriana.prieto.7921\" rel=\"noopener noreferrer\" target=\"_blank\"><i aria-hidden=\"true\" class=\"fab fa-facebook-f\" title=\"Facebook\"></i></a></li><li><a aria-label=\"Twitter\" href=\"https://twitter.com/AdriPrietoYopal \" rel=\"noopener noreferrer\" target=\"_blank\"><i aria-hidden=\"true\" class=\"fab fa-twitter\" title=\"Twitter\"></i></a></li><li><a aria-label=\"Instagram\" href=\"https://www.instagram.com/adrianaprietovargas/ \" rel=\"noopener noreferrer\" target=\"_blank\"><i aria-hidden=\"true\" class=\"fab fa-instagram\" title=\"Instagram\"></i></a></li></ul>\n",
      "<ul class=\"sppb-person-social\"><li><a aria-label=\"Facebook\" href=\"https://www.facebook.com/ArleyFGomez \" rel=\"noopener noreferrer\" target=\"_blank\"><i aria-hidden=\"true\" class=\"fab fa-facebook-f\" title=\"Facebook\"></i></a></li><li><a aria-label=\"Twitter\" href=\"https://twitter.com/ArleyFGomez \" rel=\"noopener noreferrer\" target=\"_blank\"><i aria-hidden=\"true\" class=\"fab fa-twitter\" title=\"Twitter\"></i></a></li><li><a aria-label=\"Instagram\" href=\"https://www.instagram.com/arleyfernandogomez/ \" rel=\"noopener noreferrer\" target=\"_blank\"><i aria-hidden=\"true\" class=\"fab fa-instagram\" title=\"Instagram\"></i></a></li></ul>\n",
      "<ul class=\"sppb-person-social\"><li><a aria-label=\"Facebook\" href=\"https://www.facebook.com/AmericaMillaresE/ \" rel=\"noopener noreferrer\" target=\"_blank\"><i aria-hidden=\"true\" class=\"fab fa-facebook-f\" title=\"Facebook\"></i></a></li><li><a aria-label=\"Twitter\" href=\"https://twitter.com/amerikamillares \" rel=\"noopener noreferrer\" target=\"_blank\"><i aria-hidden=\"true\" class=\"fab fa-twitter\" title=\"Twitter\"></i></a></li></ul>\n",
      "<ul class=\"sppb-person-social\"><li><a aria-label=\"Facebook\" href=\"https://www.facebook.com/intiasprilla \" rel=\"noopener noreferrer\" target=\"_blank\"><i aria-hidden=\"true\" class=\"fab fa-facebook-f\" title=\"Facebook\"></i></a></li><li><a aria-label=\"Twitter\" href=\"https://twitter.com/intiasprilla \" rel=\"noopener noreferrer\" target=\"_blank\"><i aria-hidden=\"true\" class=\"fab fa-twitter\" title=\"Twitter\"></i></a></li><li><a aria-label=\"YouTube\" href=\"https://www.youtube.com/c/IntiRa%C3%BAlAsprillaReyes \" rel=\"noopener noreferrer\" target=\"_blank\"><i aria-hidden=\"true\" class=\"fab fa-youtube\" title=\"YouTube\"></i></a></li><li><a aria-label=\"Instagram\" href=\"https://www.instagram.com/intiasprilla/ \" rel=\"noopener noreferrer\" target=\"_blank\"><i aria-hidden=\"true\" class=\"fab fa-instagram\" title=\"Instagram\"></i></a></li></ul>\n"
     ]
    }
   ],
   "source": [
    "# Obtain candidates Social Media\n",
    "\n",
    "redesCandidatos = soup.find_all('div',class_=\"sppb-person-social-icons\")\n",
    "i=0\n",
    "for element in redesCandidatos:\n",
    "    redesCandidato = element.find('ul',class_=\"sppb-person-social\")\n",
    "    print(redesCandidato)"
   ]
  },
  {
   "cell_type": "code",
   "execution_count": 66,
   "metadata": {},
   "outputs": [
    {
     "name": "stdout",
     "output_type": "stream",
     "text": [
      "https://twitter.com/VivianaBarbere \n",
      "https://www.facebook.com/sandraortizsenadora\n",
      "https://www.facebook.com/JorgeELondonoU/\n",
      "https://www.facebook.com/SenadorIvanName \n",
      "https://www.facebook.com/Leonfredym\n",
      "https://www.facebook.com/angelicalozanocorrea/ \n",
      "/ https://www.facebook.com/karolina.jerez \n",
      "https://www.facebook.com/andreanimalidad\n",
      "https://www.facebook.com/nelson.alarconsuarez.16 \n",
      "https://www.facebook.com/IvanMarulandaGomez\n",
      "https://www.facebook.com/antonio.sanguino.79 \n",
      "https://www.facebook.com/fabiandiazcomunidad/ \n",
      "https://www.facebook.com/PartidoAlianzaVerde\n",
      "https://www.facebook.com/Linaarangorisaralda \n",
      "https://www.facebook.com/PartidoAlianzaVerde/\n",
      "https://www.facebook.com/Frankcanossa \n",
      "https://www.facebook.com/js.perilla117\n",
      "/www.facebook.com/luis.d.sanchez.16\n",
      "https://www.facebook.com/JorgeELondonoU/\n",
      "https://www.facebook.com/PartidoAlianzaVerde/\n",
      "https://www.facebook.com/liliasolanor\n",
      "https://www.facebook.com/victorhugomorenom\n",
      "https://www.youtube.com/channel/UC4S3hcMJV5jq4jXEs8Ltjow/videos\n",
      "https://www.facebook.com/JotaPeHernandez\n",
      "https://twitter.com/JorgeELondonoU\n",
      "https://www.facebook.com/SiSePuedeHernanEcheverri\n",
      "https://www.facebook.com/Hemayr.concejal \n",
      "https://www.facebook.com/icetextearruina/ \n",
      "https://www.facebook.com/ArielAvilaAnaliza \n",
      "/www.facebook.com/adriana.prieto.7921\n",
      "https://www.facebook.com/ArleyFGomez \n",
      "https://www.facebook.com/AmericaMillaresE/ \n",
      "https://www.facebook.com/intiasprilla \n"
     ]
    }
   ],
   "source": [
    "redesCandidatos = soup.find_all('ul',class_=\"sppb-person-social\")\n",
    "i=0\n",
    "for element in redesCandidatos:\n",
    "    redesCandidato = element.find('a').get('href')\n",
    "    print(redesCandidato)"
   ]
  },
  {
   "cell_type": "code",
   "execution_count": null,
   "metadata": {},
   "outputs": [],
   "source": []
  }
 ],
 "metadata": {
  "kernelspec": {
   "display_name": "Python 3",
   "language": "python",
   "name": "python3"
  },
  "language_info": {
   "codemirror_mode": {
    "name": "ipython",
    "version": 3
   },
   "file_extension": ".py",
   "mimetype": "text/x-python",
   "name": "python",
   "nbconvert_exporter": "python",
   "pygments_lexer": "ipython3",
   "version": "3.8.3"
  }
 },
 "nbformat": 4,
 "nbformat_minor": 4
}
